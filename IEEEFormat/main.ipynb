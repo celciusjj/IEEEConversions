{
 "metadata": {
  "language_info": {
   "codemirror_mode": {
    "name": "ipython",
    "version": 3
   },
   "file_extension": ".py",
   "mimetype": "text/x-python",
   "name": "python",
   "nbconvert_exporter": "python",
   "pygments_lexer": "ipython3",
   "version": "3.7.3-final"
  },
  "orig_nbformat": 2,
  "kernelspec": {
   "name": "python37332bit792d231fcb9c4190b75af65225244427",
   "display_name": "Python 3.7.3 32-bit"
  }
 },
 "nbformat": 4,
 "nbformat_minor": 2,
 "cells": [
  {
   "cell_type": "markdown",
   "metadata": {},
   "source": [
    "# Bienvenido\n",
    "## Ingresa alguna de las siguientes opciones:\n",
    "- 1 - Decimal a estándar IEEE 754 de 32 bits. \n",
    "- 2 -  Estándar 754 de 32 bits a decimal.\n",
    "- 3 - Decimal a estándar IEEE 754 de 64 bits.\n",
    "- 4 - Estándar 754 de 64 bits a decimal.\n",
    "- 5 - Decimal a estándar IEEE hex.\n",
    "- 6 - Estándar IEEE hex a decimal."
   ]
  },
  {
   "cell_type": "code",
   "execution_count": 12,
   "metadata": {
    "tags": []
   },
   "outputs": [
    {
     "output_type": "stream",
     "name": "stdout",
     "text": "Elige solo el número de las opciones mostradas anteriormente\nIngresa el número a convertir\nEl resultado de la operación es:  1550.9339990615845\n"
    }
   ],
   "source": [
    "from IEEE754_format import *\n",
    "from IEEE_hex import *\n",
    "\n",
    "print(\"Elige solo el número de las opciones mostradas anteriormente\")\n",
    "option = int(input())\n",
    "\n",
    "if option >= 1 and option <= 6:\n",
    "    print(\"Ingresa el número a convertir\")\n",
    "    result = 0\n",
    "    number = input()\n",
    "    number = float(number) if option == 1 or option == 3 or option == 5 else str(number)\n",
    "    if option == 1:\n",
    "        result = convertToIEEE(number, 32)\n",
    "    elif option == 2:\n",
    "        result = convertToDecimal(number, 32)\n",
    "    elif option == 3:\n",
    "        result = convertToIEEE(number, 64)\n",
    "    elif option == 4:\n",
    "        result = convertToDecimal(number, 64)\n",
    "    elif option == 5:\n",
    "        result = getIEEEHexNum(number)\n",
    "    elif option == 6:\n",
    "        result = calculateBaseTen(number)\n",
    "    else:\n",
    "        result = \"Operación no válida\"\n",
    "    \n",
    "    print(\"El resultado de la operación es: \", result)\n",
    "else:\n",
    "    print(\"Opción inválida intenta de nuevo\")"
   ]
  },
  {
   "cell_type": "code",
   "execution_count": null,
   "metadata": {},
   "outputs": [],
   "source": []
  }
 ]
}